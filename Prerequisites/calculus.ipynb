{
 "cells": [
  {
   "cell_type": "markdown",
   "metadata": {},
   "source": [
    "# **Essential Calculus** for Data Science\n",
    "\n",
    "Calculus plays a vital role in data science, particularly in machine learning and optimization tasks. Understanding its core concepts will help you fine-tune models and optimize algorithms. Below, we’ll go through key calculus concepts with simple explanations, examples, and Python code to help you apply them directly to data science tasks.\n",
    "\n",
    "---\n",
    "\n",
    "## 1. Derivatives (How Fast Something Changes)\n",
    "\n",
    "### What is it?\n",
    "A derivative measures how a function changes when its input changes. In simpler terms, it tells you how fast a value is changing at a particular point.\n",
    "\n",
    "In data science, derivatives are mainly used to understand the slope or rate of change of a loss function, which is crucial when you're optimizing models. For instance, when training a machine learning model, we use the derivative to adjust weights and minimize errors.\n",
    "\n",
    "### Why is it important for Data Science?\n",
    "Derivatives help us find the optimal points (minima or maxima) of a function. This is particularly useful when we are training a model, where we want to minimize a cost or loss function to make our model better.\n",
    "\n",
    "### Example:\n",
    "For a function \\( f(x) = x^2 \\), we can compute its derivative to find out how the value of the function changes as \\( x \\) changes.\n",
    "\n"
   ]
  },
  {
   "cell_type": "code",
   "execution_count": 1,
   "metadata": {},
   "outputs": [
    {
     "name": "stdout",
     "output_type": "stream",
     "text": [
      "Derivative: 2*x\n",
      "Derivative at x = 3: 6\n"
     ]
    }
   ],
   "source": [
    "import sympy as sp\n",
    "\n",
    "# Define the variable and function\n",
    "x = sp.symbols('x')\n",
    "f = x**2\n",
    "\n",
    "# Compute the derivative\n",
    "f_prime = sp.diff(f, x)\n",
    "f_prime_at_3 = f_prime.subs(x, 3)  # Evaluate at x = 3\n",
    "\n",
    "print(f\"Derivative: {f_prime}\")\n",
    "print(f\"Derivative at x = 3: {f_prime_at_3}\")"
   ]
  },
  {
   "cell_type": "markdown",
   "metadata": {},
   "source": [
    "## 2. Partial Derivatives (When There Are Multiple Variables)\n",
    "\n",
    "### What is it?\n",
    "\n",
    "In data science, many models have more than one variable (or feature). A partial derivative tells us how a function changes with respect to one variable while keeping other variables constant.\n",
    "\n",
    "For example, in a machine learning model, you may have multiple features (like height, weight, age). The partial derivative would tell you how the model’s output changes if you change only one feature, while the others remain the same.\n",
    "\n",
    "### Why is it important for Data Science?\n",
    "\n",
    "Partial derivatives are crucial when you have multiple variables (or features) in your model. They are used in optimization algorithms like gradient descent to update weights for each feature.\n",
    "\n",
    "### Example:\n",
    "\n",
    "For \\( f(x, y) = x^2 + y^2 \\), the partial derivative with respect to \\( x \\) would tell us how \\( f \\) changes when we change \\( x \\), keeping \\( y \\) constant."
   ]
  },
  {
   "cell_type": "code",
   "execution_count": 2,
   "metadata": {},
   "outputs": [
    {
     "name": "stdout",
     "output_type": "stream",
     "text": [
      "Partial derivative with respect to x: 2*x\n",
      "Partial derivative with respect to y: 2*y\n",
      "Partial derivative at x=3, y=2 for x: 6\n",
      "Partial derivative at x=3, y=2 for y: 4\n"
     ]
    }
   ],
   "source": [
    "# Define the variable and function\n",
    "y = sp.symbols('y')\n",
    "f = x**2 + y**2\n",
    "\n",
    "# Compute partial derivatives\n",
    "f_partial_x = sp.diff(f, x)\n",
    "f_partial_y = sp.diff(f, y)\n",
    "\n",
    "# Evaluate at specific points\n",
    "f_partial_x_at_3_2 = f_partial_x.subs({x: 3, y: 2})\n",
    "f_partial_y_at_3_2 = f_partial_y.subs({x: 3, y: 2})\n",
    "\n",
    "print(f\"Partial derivative with respect to x: {f_partial_x}\")\n",
    "print(f\"Partial derivative with respect to y: {f_partial_y}\")\n",
    "print(f\"Partial derivative at x=3, y=2 for x: {f_partial_x_at_3_2}\")\n",
    "print(f\"Partial derivative at x=3, y=2 for y: {f_partial_y_at_3_2}\")"
   ]
  },
  {
   "cell_type": "markdown",
   "metadata": {},
   "source": [
    "## 3. Integrals (Total Change Over Time)\n",
    "\n",
    "### What is it?\n",
    "\n",
    "An integral helps us find the total accumulated value or area under a curve. This concept is used when you need to calculate the total effect of something over a period, like the total accumulated error in a model or the total probability in a distribution.\n",
    "\n",
    "### Why is it important for Data Science?\n",
    "\n",
    "In data science, integrals are useful in probability theory, where they help calculate areas under probability density functions (PDFs). They’re also used in machine learning for calculating loss functions, especially in continuous models.\n",
    "\n",
    "### Example:\n",
    "\n",
    "For the function \\( f(x) = x^2 \\), we can find the total accumulated change (or area under the curve) from \\( x = 0 \\) to \\( x = 1 \\)."
   ]
  },
  {
   "cell_type": "code",
   "execution_count": 3,
   "metadata": {},
   "outputs": [
    {
     "name": "stdout",
     "output_type": "stream",
     "text": [
      "Integral result (area under curve): 1/3\n"
     ]
    }
   ],
   "source": [
    "# Define the function\n",
    "f = x**2\n",
    "\n",
    "# Compute the integral\n",
    "integral_result = sp.integrate(f, (x, 0, 1))\n",
    "\n",
    "print(f\"Integral result (area under curve): {integral_result}\")"
   ]
  },
  {
   "cell_type": "markdown",
   "metadata": {},
   "source": [
    "## 4. Chain Rule (For Complex Functions)\n",
    "\n",
    "### What is it?\n",
    "\n",
    "The chain rule is a fundamental concept used when you have a composition of functions. It helps you differentiate a function that is nested inside another function.\n",
    "\n",
    "### Why is it important for Data Science?\n",
    "\n",
    "The chain rule is crucial for backpropagation in neural networks, where you compute the gradients of a complex network by breaking it down into smaller functions. It allows you to update weights in multi-layer networks.\n",
    "\n",
    "### Example:\n",
    "\n",
    "For the function \\( f(x) = (3x + 2)^2 \\), you can use the chain rule to differentiate it."
   ]
  },
  {
   "cell_type": "code",
   "execution_count": 4,
   "metadata": {},
   "outputs": [
    {
     "name": "stdout",
     "output_type": "stream",
     "text": [
      "Derivative using the chain rule: 18*x + 12\n"
     ]
    }
   ],
   "source": [
    "# Define the function\n",
    "f = (3*x + 2)**2\n",
    "\n",
    "# Compute the derivative using the chain rule\n",
    "f_prime = sp.diff(f, x)\n",
    "\n",
    "print(f\"Derivative using the chain rule: {f_prime}\")"
   ]
  },
  {
   "cell_type": "markdown",
   "metadata": {},
   "source": [
    "## 5. Gradients (Steepest Path)\n",
    "\n",
    "### What is it?\n",
    "\n",
    "The gradient is a vector that points in the direction of the steepest ascent of a function. It’s essentially a generalization of a derivative for multi-variable functions.\n",
    "\n",
    "### Why is it important for Data Science?\n",
    "\n",
    "Gradients are used in optimization techniques like gradient descent, where we follow the steepest path to minimize a loss function and update model parameters.\n",
    "\n",
    "### Example:\n",
    "\n",
    "For the function \\( f(x, y) = x^2 + y^2 \\), the gradient is a vector of partial derivatives, telling us how fast the function changes with respect to both \\( x \\) and \\( y \\)."
   ]
  },
  {
   "cell_type": "code",
   "execution_count": 5,
   "metadata": {},
   "outputs": [
    {
     "name": "stdout",
     "output_type": "stream",
     "text": [
      "Gradient: [2*x, 2*y]\n"
     ]
    }
   ],
   "source": [
    "# Define the function\n",
    "f = x**2 + y**2\n",
    "\n",
    "# Compute the gradient\n",
    "grad_f = [sp.diff(f, var) for var in (x, y)]\n",
    "\n",
    "print(f\"Gradient: {grad_f}\")"
   ]
  },
  {
   "cell_type": "markdown",
   "metadata": {},
   "source": [
    "## 6. Convexity (Shape of the Function)\n",
    "\n",
    "### What is it?\n",
    "\n",
    "Convexity refers to the shape of the function. A function is convex if, for any two points on the curve, the line segment between them lies above or on the curve.\n",
    "\n",
    "### Why is it important for Data Science?\n",
    "\n",
    "Convex functions are desirable in optimization because they guarantee that algorithms like gradient descent will find the global minimum, rather than getting stuck at a local minimum.\n",
    "\n",
    "### Example:\n",
    "\n",
    "For \\( f(x) = x^2 \\), the function is convex because its second derivative is positive."
   ]
  },
  {
   "cell_type": "code",
   "execution_count": 6,
   "metadata": {},
   "outputs": [
    {
     "name": "stdout",
     "output_type": "stream",
     "text": [
      "Second derivative (convexity): 2\n"
     ]
    }
   ],
   "source": [
    "# Define the function\n",
    "f = x**2\n",
    "\n",
    "# Compute the second derivative\n",
    "f_second_derivative = sp.diff(f, x, 2)\n",
    "\n",
    "print(f\"Second derivative (convexity): {f_second_derivative}\")"
   ]
  },
  {
   "cell_type": "markdown",
   "metadata": {},
   "source": [
    "## 7. Optimization (Finding the Best Parameters)\n",
    "\n",
    "### What is it?\n",
    "Optimization is the process of finding the best solution (maximum or minimum) for a given function. In data science, optimization is crucial for training models, where we minimize a loss function to improve the model's performance.\n",
    "\n",
    "### Why is it important for Data Science?\n",
    "Optimization techniques help us adjust the parameters of machine learning models, such as weights in neural networks, to minimize the error or loss. This is the core of model training, especially when using methods like gradient descent.\n",
    "\n",
    "### Example:\n",
    "For the function \\( f(x) = x^2 - 4x + 4 \\), we can optimize it by finding the value of \\( x \\) that minimizes the function.\n",
    "\n"
   ]
  },
  {
   "cell_type": "code",
   "execution_count": 7,
   "metadata": {},
   "outputs": [
    {
     "data": {
      "text/plain": [
       "([2], 2)"
      ]
     },
     "execution_count": 7,
     "metadata": {},
     "output_type": "execute_result"
    }
   ],
   "source": [
    "# Define the function\n",
    "f = x**2 - 4*x + 4\n",
    "\n",
    "# Compute the derivative to find critical points\n",
    "f_prime = sp.diff(f, x)\n",
    "\n",
    "# Solve for critical points (where the derivative is 0)\n",
    "critical_points = sp.solve(f_prime, x)\n",
    "\n",
    "# Compute the second derivative to check if it’s a minimum or maximum\n",
    "f_second_derivative = sp.diff(f_prime, x)\n",
    "\n",
    "# Check if the second derivative at the critical point is positive (min) or negative (max)\n",
    "second_derivative_at_critical = f_second_derivative.subs(x, critical_points[0])\n",
    "\n",
    "critical_points, second_derivative_at_critical"
   ]
  },
  {
   "cell_type": "markdown",
   "metadata": {},
   "source": [
    "## 8. Taylor Series (Approximating Functions)\n",
    "\n",
    "### What is it?\n",
    "\n",
    "The Taylor series is a way to approximate a function as a sum of terms based on its derivatives at a single point. It’s used when an exact solution to a problem is complex, and we need an approximation.\n",
    "\n",
    "### Why is it important for Data Science?\n",
    "\n",
    "In machine learning, Taylor series are used in optimization algorithms (like Newton’s method) to approximate the function locally and quickly find the optimal parameters.\n",
    "\n",
    "### Example:\n",
    "\n",
    "For the function \\( f(x) = e^x \\), we can approximate it around \\( x = 0 \\) using the Taylor series expansion.\n"
   ]
  },
  {
   "cell_type": "code",
   "execution_count": 8,
   "metadata": {},
   "outputs": [
    {
     "name": "stdout",
     "output_type": "stream",
     "text": [
      "Taylor series expansion: 1 + x + x**2/2 + x**3/6 + x**4/24 + O(x**5)\n"
     ]
    }
   ],
   "source": [
    "# Define the function and expand it at x=0\n",
    "f = sp.exp(x)\n",
    "\n",
    "# Compute the Taylor series expansion around x = 0 (first 5 terms)\n",
    "taylor_expansion = sp.series(f, x, 0, 5)\n",
    "\n",
    "print(f\"Taylor series expansion: {taylor_expansion}\")"
   ]
  },
  {
   "cell_type": "markdown",
   "metadata": {},
   "source": [
    "## 9. Lagrange Multiplier (Optimizing with Constraints)\n",
    "\n",
    "### What is it?\n",
    "\n",
    "Lagrange multipliers are used to find the maximum or minimum of a function subject to constraints. This is important when you’re working with optimization problems that have restrictions or conditions.\n",
    "\n",
    "### Why is it important for Data Science?\n",
    "\n",
    "In machine learning, you may have constraints (like regularization) to prevent overfitting or satisfy certain conditions. Lagrange multipliers help optimize these problems.\n",
    "\n",
    "### Example:\n",
    "\n",
    "We want to maximize \\( f(x, y) = x^2 + y^2 \\) subject to the constraint \\( x + y = 1 \\)."
   ]
  },
  {
   "cell_type": "code",
   "execution_count": 9,
   "metadata": {},
   "outputs": [
    {
     "name": "stdout",
     "output_type": "stream",
     "text": [
      "Solution: {lambda: 1, x: 1/2, y: 1/2}\n"
     ]
    }
   ],
   "source": [
    "# Define the function and constraint\n",
    "f = x**2 + y**2\n",
    "constraint = x + y - 1\n",
    "\n",
    "# Compute Lagrange multiplier\n",
    "lagrange_multiplier = sp.symbols('lambda')\n",
    "L = f - lagrange_multiplier * constraint\n",
    "\n",
    "# Compute the partial derivatives\n",
    "grad_L = [sp.diff(L, var) for var in (x, y, lagrange_multiplier)]\n",
    "\n",
    "# Solve the system of equations\n",
    "solution = sp.solve(grad_L, (x, y, lagrange_multiplier))\n",
    "\n",
    "print(f\"Solution: {solution}\")"
   ]
  },
  {
   "cell_type": "markdown",
   "metadata": {},
   "source": [
    "## 10. Multiple Integrals (Area or Volume in Higher Dimensions)\n",
    "\n",
    "### What is it?\n",
    "\n",
    "Multiple integrals are used to calculate the total accumulated value (or volume) in multi-dimensional space. For example, double integrals are used to calculate the area under a surface, and triple integrals are used to calculate volumes in 3D.\n",
    "\n",
    "### Why is it important for Data Science?\n",
    "\n",
    "Multiple integrals are used in machine learning for tasks like calculating the probability of a continuous random variable over a region or integrating a cost function over multiple parameters.\n",
    "\n",
    "### Example:\n",
    "\n",
    "For the function \\( f(x, y) = x^2 + y^2 \\), we can compute the double integral to find the total accumulated value over a given rectangular region."
   ]
  },
  {
   "cell_type": "code",
   "execution_count": 10,
   "metadata": {},
   "outputs": [
    {
     "name": "stdout",
     "output_type": "stream",
     "text": [
      "Double integral result: 2/3\n"
     ]
    }
   ],
   "source": [
    "# Define the function\n",
    "f = x**2 + y**2\n",
    "\n",
    "# Compute the double integral over the region [0, 1] x [0, 1]\n",
    "double_integral = sp.integrate(f, (x, 0, 1), (y, 0, 1))\n",
    "\n",
    "print(f\"Double integral result: {double_integral}\")"
   ]
  },
  {
   "cell_type": "markdown",
   "metadata": {},
   "source": [
    "## 11. Vector Calculus (Working with Vectors and Fields)\n",
    "\n",
    "### What is it?\n",
    "\n",
    "Vector calculus deals with vector fields and operations like divergence and curl. Divergence measures how much a vector field is “spreading out” from a point, while curl measures the rotation of the field.\n",
    "\n",
    "### Why is it important for Data Science?\n",
    "\n",
    "Vector calculus is used in physics-based simulations and understanding how quantities flow or spread across fields. In machine learning, vector calculus helps with understanding and applying algorithms in multi-dimensional spaces.\n",
    "\n",
    "### Example:\n",
    "\n",
    "For a vector field \\( F(x, y) = (x^2, y^2) \\), the divergence measures how much the field is expanding.\n"
   ]
  },
  {
   "cell_type": "code",
   "execution_count": 11,
   "metadata": {},
   "outputs": [
    {
     "name": "stdout",
     "output_type": "stream",
     "text": [
      "Divergence of F(x, y): 2*x + 2*y\n"
     ]
    }
   ],
   "source": [
    "# Define the vector field F(x, y) = (x^2, y^2)\n",
    "F = sp.Matrix([x**2, y**2])\n",
    "\n",
    "# Compute the divergence (sum of partial derivatives)\n",
    "divergence_F = sp.diff(F[0], x) + sp.diff(F[1], y)\n",
    "\n",
    "print(f\"Divergence of F(x, y): {divergence_F}\")"
   ]
  },
  {
   "cell_type": "markdown",
   "metadata": {},
   "source": [
    "## 12. Gradient Descent (Finding Minimums)\n",
    "\n",
    "### What is it?\n",
    "Gradient Descent is an optimization algorithm used to minimize a function by moving in the direction of the steepest descent, which is the negative of the gradient (the derivative). It's often used to minimize the loss function in machine learning models.\n",
    "\n",
    "### Why is it important for Data Science?\n",
    "In machine learning, gradient descent helps us find the optimal parameters (e.g., weights in linear regression, neural networks) by iteratively adjusting them in the direction that minimizes the error or cost function.\n",
    "\n",
    "### Example:\n",
    "Let's say we want to minimize the quadratic function \\( f(x) = x^2 + 4x + 4 \\).\n",
    "\n"
   ]
  },
  {
   "cell_type": "code",
   "execution_count": 12,
   "metadata": {},
   "outputs": [
    {
     "data": {
      "image/png": "[encoded data removed]",
      "text/plain": [
       "<Figure size 640x480 with 1 Axes>"
      ]
     },
     "metadata": {},
     "output_type": "display_data"
    }
   ],
   "source": [
    "import numpy as np\n",
    "import matplotlib.pyplot as plt\n",
    "\n",
    "# Function and its derivative\n",
    "def f(x):\n",
    "    return x**2 + 4*x + 4\n",
    "\n",
    "def f_prime(x):\n",
    "    return 2*x + 4\n",
    "\n",
    "# Gradient Descent implementation\n",
    "def gradient_descent(learning_rate=0.1, initial_guess=0, num_iterations=10):\n",
    "    x = initial_guess\n",
    "    x_values = [x]\n",
    "    \n",
    "    for _ in range(num_iterations):\n",
    "        x = x - learning_rate * f_prime(x)  # Update rule\n",
    "        x_values.append(x)\n",
    "        \n",
    "    return x_values\n",
    "\n",
    "# Run gradient descent\n",
    "x_vals = gradient_descent(learning_rate=0.1, initial_guess=-5, num_iterations=20)\n",
    "\n",
    "# Plot the function and gradient descent steps\n",
    "x = np.linspace(-6, 2, 100)\n",
    "y = f(x)\n",
    "plt.plot(x, y, label=\"f(x) = x^2 + 4x + 4\")\n",
    "plt.scatter(x_vals, [f(x) for x in x_vals], color='red', label=\"Gradient Descent Steps\")\n",
    "plt.xlabel('x')\n",
    "plt.ylabel('f(x)')\n",
    "plt.legend()\n",
    "plt.show()"
   ]
  },
  {
   "cell_type": "markdown",
   "metadata": {},
   "source": []
  }
 ],
 "metadata": {
  "kernelspec": {
   "display_name": "myenv",
   "language": "python",
   "name": "python3"
  },
  "language_info": {
   "codemirror_mode": {
    "name": "ipython",
    "version": 3
   },
   "file_extension": ".py",
   "mimetype": "text/x-python",
   "name": "python",
   "nbconvert_exporter": "python",
   "pygments_lexer": "ipython3",
   "version": "3.12.6"
  }
 },
 "nbformat": 4,
 "nbformat_minor": 2
}
